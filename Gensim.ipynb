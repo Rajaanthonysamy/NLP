{
 "cells": [
  {
   "cell_type": "code",
   "execution_count": 2,
   "id": "e085bfc0-c542-4926-9fb7-685f47723a94",
   "metadata": {},
   "outputs": [],
   "source": [
    "import gensim.downloader as api"
   ]
  },
  {
   "cell_type": "code",
   "execution_count": 4,
   "id": "e47359d7-156c-4dcb-8970-65368e0d433e",
   "metadata": {},
   "outputs": [],
   "source": [
    "wv=api.load(\"word2vec-google-news-300\")  ##no of vectors 3000000...... use different model take from gensim website"
   ]
  },
  {
   "cell_type": "code",
   "execution_count": 6,
   "id": "8aae21fc-024e-4bab-b19c-e59c4944dc39",
   "metadata": {},
   "outputs": [
    {
     "data": {
      "text/plain": [
       "0.33366507"
      ]
     },
     "execution_count": 6,
     "metadata": {},
     "output_type": "execute_result"
    }
   ],
   "source": [
    "wv.similarity(w1=\"Good\",w2=\"nice\")"
   ]
  },
  {
   "cell_type": "code",
   "execution_count": 8,
   "id": "b8dc674b-e2d7-4a0f-ab52-700a4f29977c",
   "metadata": {},
   "outputs": [
    {
     "data": {
      "text/plain": [
       "[('great', 0.7291510105133057),\n",
       " ('bad', 0.7190051078796387),\n",
       " ('terrific', 0.6889115571975708),\n",
       " ('decent', 0.6837348341941833),\n",
       " ('nice', 0.6836092472076416),\n",
       " ('excellent', 0.644292950630188),\n",
       " ('fantastic', 0.6407778263092041),\n",
       " ('better', 0.6120728850364685),\n",
       " ('solid', 0.5806034803390503),\n",
       " ('lousy', 0.576420247554779)]"
      ]
     },
     "execution_count": 8,
     "metadata": {},
     "output_type": "execute_result"
    }
   ],
   "source": [
    "wv.most_similar(\"good\")"
   ]
  },
  {
   "cell_type": "code",
   "execution_count": 10,
   "id": "5d87c1d1-2c0c-420f-9cf6-fbe0209db67c",
   "metadata": {},
   "outputs": [
    {
     "data": {
      "text/plain": [
       "[('germany', 0.5094343423843384),\n",
       " ('european', 0.48650455474853516),\n",
       " ('german', 0.4714890420436859),\n",
       " ('austria', 0.46964022517204285),\n",
       " ('swedish', 0.4645182490348816),\n",
       " ('Wissenschaft', 0.4532880485057831),\n",
       " ('denmark', 0.4477355182170868),\n",
       " ('München', 0.4438532590866089),\n",
       " ('europe', 0.4420619308948517),\n",
       " ('belgium', 0.43769752979278564)]"
      ]
     },
     "execution_count": 10,
     "metadata": {},
     "output_type": "execute_result"
    }
   ],
   "source": [
    "wv.most_similar(positive=[\"france\",\"berlin\"],negative=[\"paris\"])"
   ]
  },
  {
   "cell_type": "code",
   "execution_count": 12,
   "id": "6fe557df-00c6-4423-8e7a-4c5d8502f540",
   "metadata": {},
   "outputs": [
    {
     "data": {
      "text/plain": [
       "[('queen', 0.7118193507194519),\n",
       " ('monarch', 0.6189674139022827),\n",
       " ('princess', 0.5902431011199951),\n",
       " ('crown_prince', 0.5499460697174072),\n",
       " ('prince', 0.5377321839332581),\n",
       " ('kings', 0.5236844420433044),\n",
       " ('Queen_Consort', 0.5235945582389832),\n",
       " ('queens', 0.5181134343147278),\n",
       " ('sultan', 0.5098593831062317),\n",
       " ('monarchy', 0.5087411999702454)]"
      ]
     },
     "execution_count": 12,
     "metadata": {},
     "output_type": "execute_result"
    }
   ],
   "source": [
    "wv.most_similar(positive=[\"king\",\"woman\"],negative=[\"man\"])"
   ]
  },
  {
   "cell_type": "code",
   "execution_count": 26,
   "id": "47fa9be1-5903-43c9-b5d7-7a3b22dacfa2",
   "metadata": {},
   "outputs": [
    {
     "data": {
      "text/plain": [
       "'king'"
      ]
     },
     "execution_count": 26,
     "metadata": {},
     "output_type": "execute_result"
    }
   ],
   "source": [
    "wv.doesnt_match([\"cat\",\"dog\",\"lion\",\"tiger\",\"king\"])"
   ]
  },
  {
   "cell_type": "code",
   "execution_count": null,
   "id": "223a2312-c8e0-49bb-a34c-63141d76ff32",
   "metadata": {},
   "outputs": [],
   "source": []
  }
 ],
 "metadata": {
  "kernelspec": {
   "display_name": "Python 3 (ipykernel)",
   "language": "python",
   "name": "python3"
  },
  "language_info": {
   "codemirror_mode": {
    "name": "ipython",
    "version": 3
   },
   "file_extension": ".py",
   "mimetype": "text/x-python",
   "name": "python",
   "nbconvert_exporter": "python",
   "pygments_lexer": "ipython3",
   "version": "3.11.9"
  }
 },
 "nbformat": 4,
 "nbformat_minor": 5
}
